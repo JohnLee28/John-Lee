{
 "cells": [
  {
   "cell_type": "markdown",
   "metadata": {},
   "source": [
    "# Day 7 Discussions"
   ]
  },
  {
   "cell_type": "markdown",
   "metadata": {},
   "source": [
    "## Group Project"
   ]
  },
  {
   "cell_type": "markdown",
   "metadata": {},
   "source": [
    "### Points of Interest\n",
    "\n",
    "- will we focus more on VBA or advanced topics\n",
    "- flowcharts are not important\n",
    "- diagraming is important (idk the diff; more meaningful)\n",
    "- log sales transaction CSV comma separated variables, importing CSVs to python\n",
    "- business model canvas"
   ]
  },
  {
   "cell_type": "markdown",
   "metadata": {},
   "source": [
    "### Business Model\n",
    "\n",
    "- how the business makes money\n",
    "\n",
    "### Business Model Canvas\n",
    "- (Top Left) Partners\n",
    "- Activities Resources\n",
    "- (Top Middle) Value Proposition (what is offering)\n",
    "- How you reach the customers (direct, online, resellers)\n",
    "- (Top Right) Customer Channels\n",
    "- Expenses Revenues\n",
    "\n",
    "### Brick and Mortar \n",
    "- not automated\n",
    "- buy wholesale sell retail\n",
    "- pain points \n",
    "    - partner to activities (will they pay, etc.)\n",
    "    - resources (buy serves, computers - cloud computing just rent server space)\n",
    "    - resources (programmers - outsource trend, build buy)\n",
    "    - resources (build - pay programmers, buy - you have intellectual property.)\n",
    "    - If you want to scale businesses, go digital.\n",
    "- Financials (ERP) - Ledger Entries Come and Go\n",
    "    - expenses and revenues\n",
    "- CRM - customers and channels\n",
    "- relationship (SFAutomation, B2C or B2B)\n",
    "    - milestones and invoice and paid and ledger entries\n",
    "- HRM - activities and resources\n",
    "    - all the findings are recorded in excel.\n",
    "    - offer is made and a job contract is generated with the salary and so on\n",
    "    - employee record in employee database\n",
    "    - processed into payroll, runned every 15th and 30th\n",
    "    - tax computations and all will be made also\n",
    "    - pay slip\n",
    "    - payroll - CSV - send to bank and bank does it\n",
    "    - CSV and then into payroll (for commissions)\n",
    "- **Groupwork**: take your pick, if you collaborate with another group to do this and that **bonus points**\n",
    "- verticals and horizontals (banks, insurance, retail, wholesale, government, education, travel and tourism)\n",
    "    - POS and e-comers\n",
    "- value proposition: marketing and pricing is included\n",
    "- CRM - loyalty points are included\n",
    "\n",
    "**We've been discussing mostly transaction.**\n",
    "\n",
    "- Havianas Partnership Example\n",
    "    - using python to look into foot traffic and sales\n",
    "    - generate smth to increase foot traffic, how does it improve my sales\n",
    "    - video analytics\n",
    "    - camera in the shelves and recording the heat or temp at that place"
   ]
  },
  {
   "cell_type": "markdown",
   "metadata": {},
   "source": [
    "## More Reference Discussions"
   ]
  },
  {
   "cell_type": "code",
   "execution_count": 5,
   "metadata": {
    "scrolled": false
   },
   "outputs": [
    {
     "data": {
      "text/plain": [
       "['a', 'b', 'c', 'd']"
      ]
     },
     "execution_count": 5,
     "metadata": {},
     "output_type": "execute_result"
    }
   ],
   "source": [
    "# Lists are mutable!\n",
    "\n",
    "list_a = ['a','b','c']\n",
    "list_b = list_a\n",
    "list_b.append('d')\n",
    "list_a # because it is a reference"
   ]
  },
  {
   "cell_type": "code",
   "execution_count": 7,
   "metadata": {},
   "outputs": [
    {
     "data": {
      "text/plain": [
       "['a', 'b', 'c']"
      ]
     },
     "execution_count": 7,
     "metadata": {},
     "output_type": "execute_result"
    }
   ],
   "source": [
    "# Take 2\n",
    "\n",
    "list_a = ['a','b','c']\n",
    "list_b = list_a.copy()\n",
    "list_b.append('d')\n",
    "list_a # do a copy so it appends b only"
   ]
  },
  {
   "cell_type": "markdown",
   "metadata": {},
   "source": [
    "## More Reference Discussions"
   ]
  },
  {
   "cell_type": "code",
   "execution_count": 8,
   "metadata": {},
   "outputs": [],
   "source": [
    "# default values and the Parrot function"
   ]
  },
  {
   "cell_type": "markdown",
   "metadata": {},
   "source": [
    "## Lambda Functions (next week)"
   ]
  },
  {
   "cell_type": "markdown",
   "metadata": {},
   "source": [
    "## Docstrings"
   ]
  },
  {
   "cell_type": "code",
   "execution_count": 14,
   "metadata": {},
   "outputs": [],
   "source": [
    "# def my_function():\n",
    "    # **\"Do nothing, but document it.\n",
    "    \n",
    "    # No, really, it doesn't do anything."
   ]
  },
  {
   "cell_type": "code",
   "execution_count": 12,
   "metadata": {},
   "outputs": [],
   "source": [
    "??"
   ]
  },
  {
   "cell_type": "code",
   "execution_count": 13,
   "metadata": {},
   "outputs": [
    {
     "ename": "SyntaxError",
     "evalue": "invalid syntax (<ipython-input-13-0c3089a32d15>, line 1)",
     "output_type": "error",
     "traceback": [
      "\u001b[0;36m  File \u001b[0;32m\"<ipython-input-13-0c3089a32d15>\"\u001b[0;36m, line \u001b[0;32m1\u001b[0m\n\u001b[0;31m    .__doc__\u001b[0m\n\u001b[0m    ^\u001b[0m\n\u001b[0;31mSyntaxError\u001b[0m\u001b[0;31m:\u001b[0m invalid syntax\n"
     ]
    }
   ],
   "source": [
    ".__doc__"
   ]
  },
  {
   "cell_type": "code",
   "execution_count": 16,
   "metadata": {},
   "outputs": [
    {
     "data": {
      "text/plain": [
       "TestResults(failed=0, attempted=0)"
      ]
     },
     "execution_count": 16,
     "metadata": {},
     "output_type": "execute_result"
    }
   ],
   "source": [
    "import doctest\n",
    "doctest.testmod()"
   ]
  },
  {
   "cell_type": "code",
   "execution_count": 17,
   "metadata": {},
   "outputs": [],
   "source": [
    "# an alternative to doctest is unittest\n",
    "# for now stick to doctest"
   ]
  },
  {
   "cell_type": "markdown",
   "metadata": {},
   "source": [
    "# Telegram Sandbox"
   ]
  },
  {
   "cell_type": "code",
   "execution_count": 3,
   "metadata": {},
   "outputs": [],
   "source": [
    "import telegram\n",
    "import telegram.ext"
   ]
  },
  {
   "cell_type": "code",
   "execution_count": null,
   "metadata": {},
   "outputs": [],
   "source": []
  }
 ],
 "metadata": {
  "kernelspec": {
   "display_name": "Python 3",
   "language": "python",
   "name": "python3"
  },
  "language_info": {
   "codemirror_mode": {
    "name": "ipython",
    "version": 3
   },
   "file_extension": ".py",
   "mimetype": "text/x-python",
   "name": "python",
   "nbconvert_exporter": "python",
   "pygments_lexer": "ipython3",
   "version": "3.7.3"
  }
 },
 "nbformat": 4,
 "nbformat_minor": 2
}
