{
 "cells": [
  {
   "cell_type": "markdown",
   "metadata": {},
   "source": [
    "# ITMGT 25.03 EE\n",
    "### Assignment 1\n",
    "\n",
    "These exercises are designed to strengthen your grasp on basic programming concepts. Read what is required of you carefully.\n",
    "\n",
    "This assignment is only over 10 points, but there are 15 points available to earn from answering the questions. It will be credited to Class Participation, which will be over 200 for the entire semester.\n",
    "\n",
    "Rename the file to:\n",
    "\n",
    "Lastname_Assignment_1.ipynb\n",
    "\n",
    "Send to my email account: joben.ilagan@gmail.com. \n",
    "Attach the file or create a Dropbox link. \n",
    "The deadline is Tuesday, 18 June 2019, 12:00 nn.\n",
    "\n",
    "You may earn another 2 bonus points for figuring out GitHub and linking me to your repository in your email. (This brings the absolute maximum possible grade for this assignment to 17/10.)"
   ]
  },
  {
   "cell_type": "markdown",
   "metadata": {},
   "source": [
    "# 1\n",
    "### 1 point\n",
    "\n",
    "Write a function that takes the circumference of a circle as a parameter and **returns** the area of that circle."
   ]
  },
  {
   "cell_type": "code",
   "execution_count": 10,
   "metadata": {},
   "outputs": [
    {
     "data": {
      "text/plain": [
       "3.141692"
      ]
     },
     "execution_count": 10,
     "metadata": {},
     "output_type": "execute_result"
    }
   ],
   "source": [
    "def circumferenceToArea(circumference):\n",
    "    return (circumference**2/(4*3.141692))\n",
    "\n",
    "# circumference is equal to 2*3.141692*radius\n",
    "# thus, radius is equal to circumference/(2*3.141692)\n",
    "\n",
    "# area is equal to 3.141692*(radius**2)\n",
    "\n",
    "# radius**2 is equal to (circumference/(2*3.141692))**2\n",
    "# then area is equal to 3.141692*(circumference/(2*3.141692))**2\n",
    "# by simplifying, area is equal to (circumference**2/(4*3.141692))\n",
    "\n",
    "# test value\n",
    "circumferenceToArea(2*3.141692*1)"
   ]
  },
  {
   "cell_type": "markdown",
   "metadata": {},
   "source": [
    "# 2\n",
    "### 2 points\n",
    "\n",
    "Write a function that takes a 5-character string as a parameter and **returns** the string in reverse order.\n",
    "\n",
    "e.g. reverseString(\"Hello\") -> \"olleH\""
   ]
  },
  {
   "cell_type": "code",
   "execution_count": 9,
   "metadata": {},
   "outputs": [
    {
     "data": {
      "text/plain": [
       "'olleH'"
      ]
     },
     "execution_count": 9,
     "metadata": {},
     "output_type": "execute_result"
    }
   ],
   "source": [
    "def reverseString(string):\n",
    "    return string[len(string)-1] + string[len(string)-2] + string[len(string)-3] + string[len(string)-4] + string[len(string)-5] \n",
    "\n",
    "# string[Z] where Z is an integer will give us the Zth character of the string with variable name string\n",
    "# the integer Z of the last character of a string is len(string)-1, where string is the variable name of the string\n",
    "# we keep subtracting until we reach the first character \n",
    "# the first character has Z equal to 0\n",
    "# len(string)-5 is 0 for a five-character string with variable name string\n",
    "\n",
    "reverseString(\"Hello\")"
   ]
  },
  {
   "cell_type": "markdown",
   "metadata": {},
   "source": [
    "# 3\n",
    "### 2 points\n",
    "\n",
    "Write a function that takes a positive integer as input and **returns** the sum of all positive integers smaller than and including the number itself.\n",
    "\n",
    "e.g. backAddition(5) -> 1 + 2 + 3 + 4 + 5 -> 15"
   ]
  },
  {
   "cell_type": "code",
   "execution_count": 52,
   "metadata": {},
   "outputs": [
    {
     "name": "stdout",
     "output_type": "stream",
     "text": [
      "Input Positive Integer: 5\n"
     ]
    },
    {
     "data": {
      "text/plain": [
       "15"
      ]
     },
     "execution_count": 52,
     "metadata": {},
     "output_type": "execute_result"
    }
   ],
   "source": [
    "def backAddition(end):\n",
    "    sum=0\n",
    "    # setting the initial sum\n",
    "    for num in range (1,end+1):\n",
    "        # range (1,end+1) means [1,end+1)\n",
    "        # the for loop does it for all integers in the range\n",
    "        sum += num\n",
    "        # it adds integer num in the sum as it loops\n",
    "    return sum\n",
    "\n",
    "inputNumber = input(\"Input Positive Integer: \")\n",
    "# takes an input\n",
    "\n",
    "backAddition(int(inputNumber))\n",
    "# places the input in the function\n",
    "# input is in string form, we use int to convert it into an integer"
   ]
  },
  {
   "cell_type": "markdown",
   "metadata": {},
   "source": [
    "# 4\n",
    "### 3 points\n",
    "\n",
    "Write a function that does the following:\n",
    "1. The function iterates through each number from 1 to 100. Print each number.\n",
    "2. If the number is divisible by 3, instead of the number, print \"Fizz\"\n",
    "3. If the number is divisible by 5, instead of the number, print \"Buzz\"\n",
    "4. If the number is divisible by both 3 and 5, instead of the number, print \"FizzBuzz\"\n",
    "\n",
    "e.g.\n",
    "\n",
    "1\n",
    "\n",
    "2\n",
    "\n",
    "Fizz\n",
    "\n",
    "4\n",
    "\n",
    "Buzz\n",
    "\n",
    "Fizz\n",
    "\n",
    "...\n",
    "\n",
    "14\n",
    "\n",
    "FizzBuzz\n",
    "\n",
    "16\n",
    "\n",
    "17\n",
    "\n",
    "..."
   ]
  },
  {
   "cell_type": "code",
   "execution_count": 15,
   "metadata": {},
   "outputs": [
    {
     "name": "stdout",
     "output_type": "stream",
     "text": [
      "1\n",
      "2\n",
      "Fizz\n",
      "4\n",
      "Buzz\n",
      "Fizz\n",
      "7\n",
      "8\n",
      "Fizz\n",
      "Buzz\n",
      "11\n",
      "Fizz\n",
      "13\n",
      "14\n",
      "FizzBuzz\n",
      "16\n",
      "17\n",
      "Fizz\n",
      "19\n",
      "Buzz\n",
      "Fizz\n",
      "22\n",
      "23\n",
      "Fizz\n",
      "Buzz\n",
      "26\n",
      "Fizz\n",
      "28\n",
      "29\n",
      "FizzBuzz\n",
      "31\n",
      "32\n",
      "Fizz\n",
      "34\n",
      "Buzz\n",
      "Fizz\n",
      "37\n",
      "38\n",
      "Fizz\n",
      "Buzz\n",
      "41\n",
      "Fizz\n",
      "43\n",
      "44\n",
      "FizzBuzz\n",
      "46\n",
      "47\n",
      "Fizz\n",
      "49\n",
      "Buzz\n",
      "Fizz\n",
      "52\n",
      "53\n",
      "Fizz\n",
      "Buzz\n",
      "56\n",
      "Fizz\n",
      "58\n",
      "59\n",
      "FizzBuzz\n",
      "61\n",
      "62\n",
      "Fizz\n",
      "64\n",
      "Buzz\n",
      "Fizz\n",
      "67\n",
      "68\n",
      "Fizz\n",
      "Buzz\n",
      "71\n",
      "Fizz\n",
      "73\n",
      "74\n",
      "FizzBuzz\n",
      "76\n",
      "77\n",
      "Fizz\n",
      "79\n",
      "Buzz\n",
      "Fizz\n",
      "82\n",
      "83\n",
      "Fizz\n",
      "Buzz\n",
      "86\n",
      "Fizz\n",
      "88\n",
      "89\n",
      "FizzBuzz\n",
      "91\n",
      "92\n",
      "Fizz\n",
      "94\n",
      "Buzz\n",
      "Fizz\n",
      "97\n",
      "98\n",
      "Fizz\n",
      "Buzz\n"
     ]
    }
   ],
   "source": [
    "for counter in range (1,101):\n",
    "    if counter%3==0 and counter%5==0:\n",
    "        print (\"FizzBuzz\")\n",
    "    elif counter%3==0:\n",
    "        print (\"Fizz\")    \n",
    "    elif counter%5==0:\n",
    "        print (\"Buzz\")\n",
    "    else:\n",
    "        print(counter)\n",
    "\n",
    "# We use modulo to find out if the number is divisible by both 3 & 5, 3 only, or 5 only.\n",
    "# If it is any of those three, there is a corresponding print.\n",
    "# IF it is neither of the three, it prints the number itself."
   ]
  },
  {
   "cell_type": "markdown",
   "metadata": {},
   "source": [
    "# 5\n",
    "### 2 points\n",
    "\n",
    "Each new term in the Fibonacci sequence is generated by adding the previous two terms. By starting with 1 and 2, the first 10 terms will be:\n",
    "\n",
    "1, 2, 3, 5, 8, 13, 21, 34, 55, 89, ...\n",
    "\n",
    "By considering the terms in the Fibonacci sequence whose values do not exceed four million, using programming, find the sum of the even-valued terms."
   ]
  },
  {
   "cell_type": "code",
   "execution_count": 18,
   "metadata": {},
   "outputs": [
    {
     "name": "stdout",
     "output_type": "stream",
     "text": [
      "4613732\n"
     ]
    }
   ],
   "source": [
    "# The while function contains a condition.\n",
    "# So long as the condition is True, a code will proceed over and over again.\n",
    "# Once it is False, it will go for whatever is written after the while section.\n",
    "\n",
    "sum = 0\n",
    "number1 = 1\n",
    "number2 = 2\n",
    "# setting variables and initial values\n",
    "\n",
    "while (number2<=4000000):\n",
    "    # We consider terms whose values do not exceed four million.\n",
    "    if number2%2==0:\n",
    "    # Use modulo to make sure the number is even.\n",
    "        sum += number2\n",
    "        # The += operator adds n2 to the value of sum.\n",
    "        # This is done over and over again because of while.\n",
    "    number1,number2 = number2,number1+number2\n",
    "    # We set new values for the variables.\n",
    "    \n",
    "print(sum)"
   ]
  },
  {
   "cell_type": "markdown",
   "metadata": {},
   "source": [
    "# 6\n",
    "### 5 points (all or nothing)\n",
    "\n",
    "The sum of the squares of the first ten natural numbers is,\n",
    "12 + 22 + ... + 102 = 385\n",
    "\n",
    "The square of the sum of the first ten natural numbers is,\n",
    "(1 + 2 + ... + 10)2 = 552 = 3025\n",
    "\n",
    "Hence the difference between the sum of the squares of the first ten natural numbers and the square of the sum is 3025 − 385 = 2640.\n",
    "\n",
    "Find the difference between the sum of the squares of the first one hundred natural numbers and the square of the sum.\n",
    "\n",
    "Show code that generates the answer."
   ]
  },
  {
   "cell_type": "code",
   "execution_count": 32,
   "metadata": {},
   "outputs": [
    {
     "data": {
      "text/plain": [
       "25164150"
      ]
     },
     "execution_count": 32,
     "metadata": {},
     "output_type": "execute_result"
    }
   ],
   "source": [
    "def sumOfSquares(endNumber):\n",
    "    sum1 = 0\n",
    "    for integer in range(0,endNumber+1):\n",
    "        sum1 += integer*integer\n",
    "        # When we come across an integer of variable name integer, we add its square to the sum.\n",
    "    return sum1    \n",
    "\n",
    "def squareOfSums(lastNumber):\n",
    "    sum2 = 0\n",
    "    for integers in range(0,lastNumber+1):\n",
    "        sum2 += integers\n",
    "        # When we come across an integer of variable name integers, we add it to the sum.\n",
    "    return (sum2)**2\n",
    "    # We need to square the sum that we get.\n",
    "\n",
    "def netAnswer(finalNumber):\n",
    "    return squareOfSums(finalNumber)-sumOfSquares(finalNumber)\n",
    "\n",
    "netAnswer(100)"
   ]
  }
 ],
 "metadata": {
  "kernelspec": {
   "display_name": "Python 3",
   "language": "python",
   "name": "python3"
  },
  "language_info": {
   "codemirror_mode": {
    "name": "ipython",
    "version": 3
   },
   "file_extension": ".py",
   "mimetype": "text/x-python",
   "name": "python",
   "nbconvert_exporter": "python",
   "pygments_lexer": "ipython3",
   "version": "3.7.3"
  }
 },
 "nbformat": 4,
 "nbformat_minor": 2
}
