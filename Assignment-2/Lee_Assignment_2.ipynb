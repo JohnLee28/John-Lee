{
 "cells": [
  {
   "cell_type": "markdown",
   "metadata": {},
   "source": [
    "## CoffeePython POS Terminal"
   ]
  },
  {
   "cell_type": "markdown",
   "metadata": {},
   "source": [
    "CoffeePython is a new specialty coffee place along Katipunan. It commissioned students to build a crude character-mode terminal based on Python.\n",
    "\n",
    "It has the following products:\n",
    "\n",
    "\n",
    "| Code          | Product Name  |  Price |\n",
    "|---------------|---------------|--------|\n",
    "| brewedcoffee  | Brewed Coffee | 120.00 |\n",
    "| espresso      | Espresso      | 140.00 |\n",
    "| americano     | Americano     | 150.00 |\n",
    "| capuccino     | Capuccino     | 170.00 |\n"
   ]
  },
  {
   "cell_type": "markdown",
   "metadata": {},
   "source": [
    "A Python dictionary containing the product information has already been created by someone else:\n",
    "    "
   ]
  },
  {
   "cell_type": "code",
   "execution_count": 21,
   "metadata": {},
   "outputs": [],
   "source": [
    "products = {\n",
    "    \"brewedcoffee\":{\"name\":\"Brewed Coffee\",\"price\":120.00},\n",
    "    \"espresso\":{\"name\":\"Espresso\",\"price\":140.00},\n",
    "    \"americano\":{\"name\":\"Americano\",\"price\":150.00},\n",
    "    \"capuccino\":{\"name\":\"Capuccino\",\"price\":170.00},\n",
    "}"
   ]
  },
  {
   "cell_type": "markdown",
   "metadata": {},
   "source": [
    "### 1. product information lookup function (3 points)\n",
    "\n",
    "Write a function ```get_product(code)``` where code is the key of the product information in the products dictionary. The function should return the dictionary containing the specific product information.\n",
    "For example:\n",
    "\n",
    "\n",
    "**```get_product(\"espresso\")```**\n",
    "\n",
    "should yield\n",
    "\n",
    "**```{\"name\":\"Espresso\",\"price\":140.00}```**\n"
   ]
  },
  {
   "cell_type": "code",
   "execution_count": 22,
   "metadata": {},
   "outputs": [
    {
     "data": {
      "text/plain": [
       "{'name': 'Espresso', 'price': 140.0}"
      ]
     },
     "execution_count": 22,
     "metadata": {},
     "output_type": "execute_result"
    }
   ],
   "source": [
    "## Answer\n",
    "\n",
    "def get_product(code):\n",
    "    return products[code]\n",
    "    ## write your code here\n",
    "\n",
    "get_product(\"espresso\")"
   ]
  },
  {
   "cell_type": "markdown",
   "metadata": {},
   "source": [
    "### 2. retrieve product attributes (2 points)\n",
    "a. Write one line of code that calls ```get_product(code)``` and returns the price of that product.\n",
    "\n",
    "**Update:**\n",
    "You may include your one line of code inside a function. The function definition and the return statements are excluded from the count.\n"
   ]
  },
  {
   "cell_type": "code",
   "execution_count": 23,
   "metadata": {},
   "outputs": [
    {
     "data": {
      "text/plain": [
       "140.0"
      ]
     },
     "execution_count": 23,
     "metadata": {},
     "output_type": "execute_result"
    }
   ],
   "source": [
    "## Answer:\n",
    "\n",
    "def get_product_price(product):\n",
    "    return get_product(product)[\"price\"]\n",
    "\n",
    "get_product_price(\"espresso\")\n",
    "## write your answer here"
   ]
  },
  {
   "cell_type": "markdown",
   "metadata": {},
   "source": [
    "b. Write one line of code that calls ```get_product(code)``` and returns the name of that product.\n",
    "\n",
    "**Update:**\n",
    "You may include your one line of code inside a function. The function definition and the return statements are excluded from the count."
   ]
  },
  {
   "cell_type": "code",
   "execution_count": 24,
   "metadata": {},
   "outputs": [
    {
     "data": {
      "text/plain": [
       "'Espresso'"
      ]
     },
     "execution_count": 24,
     "metadata": {},
     "output_type": "execute_result"
    }
   ],
   "source": [
    "## Answer:\n",
    "\n",
    "def get_product_name(product2):\n",
    "    return get_product(product2)[\"name\"]\n",
    "\n",
    "get_product_name(\"espresso\")\n",
    "## write your answer here"
   ]
  },
  {
   "cell_type": "markdown",
   "metadata": {},
   "source": [
    "### 2. Point-of-Sale Terminal  (5 points)\n",
    "\n",
    "Write a function ```main``` that asks for orders of food from a customer. The system should ask for the following:\n",
    "* Product Code (assume that the clerk has memorized the product codes)\n",
    "* Quantity\n",
    "\n",
    "The system then must update an electronic **food tray** (which is just a fancy term for a list of items ordered). Implement the food tray as a list of ordered items, each of which is a *dictionary* containing the following key-value pairs: \n",
    "\n",
    "* product_code, \n",
    "* quantity\n",
    "* subtotal *(which is just the quantity multiplied by the price of the product)*\n",
    "\n",
    "Design your program such that **food_tray** is a variable of the **main** function for now. We will deal with better software design later on. In any case, if any of your functions need to work on the food_tray, pass it as a parameter.\n",
    "\n",
    "The system must compute the subtotal before appending to the food tray.\n",
    "\n",
    "The system must be able to determine if the customer is done with his/her order. Once done, the system notifies the clerk/user of the grand total. \n",
    "\n",
    "The system then prints out the receipt (for now, just show it appear in the notebook), after which it is ready to process the next customer order. Make sure to clear out the food_tray after each successful order.\n",
    "\n",
    "**Bonus (2 points):**\n",
    "Format the receipt output using various print formatting options. You will have to do research on this.\n",
    "\n",
    "**Bonus (2 points):**\n",
    "If the cashier enters an invalid product code, handle the errors gracefully. For one, the system should not bomb out while processing something invalid; rather, it should tell the cashier that he/she entered an invalid product code and to try again.\n",
    "Note that you will have to do research on Error and Exception handling."
   ]
  },
  {
   "cell_type": "code",
   "execution_count": 25,
   "metadata": {},
   "outputs": [],
   "source": [
    "def add_to_tray(food_tray, ordered_item):\n",
    "    '''\n",
    "    @type food_tray: list\n",
    "    @rtype: None\n",
    "    >>> food_tray = []\n",
    "    >>> add_to_tray(food_tray,{\"code\":\"brewedcoffee\",\"qty\":2,\"subtotal\":240})\n",
    "    >>> add_to_tray(food_tray,{\"code\":\"capuccino\",\"qty\":1,\"subtotal\":170})\n",
    "    >>> food_tray\n",
    "    [{'code': 'brewedcoffee', 'qty': 2, 'subtotal': 240}, {'code': 'capuccino', 'qty': 1, 'subtotal': 170}]\n",
    "    '''\n",
    "    food_tray.append(ordered_item)\n",
    "    ## write your code here\n",
    "    ## hint: append to the food_tray list\n",
    "\n"
   ]
  },
  {
   "cell_type": "code",
   "execution_count": 26,
   "metadata": {},
   "outputs": [],
   "source": [
    "def generate_receipt(food_tray):\n",
    "    \n",
    "    print (\n",
    "            \"{dashes}\".format(dashes=\"--------------------------------------------------\")\n",
    "              )\n",
    "    for integerZ in range(0,len(food_tray)):\n",
    "        print (\n",
    "            \"{code1:15} {name1:15} {qty1:10} {subtotal1:6}\".format(code1=food_tray[integerZ][\"code\"],name1=food_tray[integerZ][\"name\"],qty1=food_tray[integerZ][\"quantity\"],subtotal1=food_tray[integerZ][\"subtotal\"])\n",
    "              )\n",
    "    print (\n",
    "            \"{spaces}\".format(spaces=\" \")\n",
    "              )\n",
    "    print (\n",
    "            \"{Total:42} {amount1:6}\".format(Total=\"Total:\",amount1=sum(food_tray[integerY][\"subtotal\"] for integerY in range(0,len(food_tray),1)))\n",
    "              )\n",
    "    print (\n",
    "            \"{dashes}\".format(dashes=\"--------------------------------------------------\")\n",
    "              )\n",
    "    ## write your code here\n",
    "    ## it is expected you will use print instead of returning a value\n",
    "    ## hint: use accumulator pattern and loop through the items in the food tray\n",
    "    ## hint: you will have to look up the product name from the products dictionary to make the receipt\n",
    "    ##       more presentable\n",
    "        "
   ]
  },
  {
   "cell_type": "markdown",
   "metadata": {},
   "source": [
    "**Hint:** The ```ordered_item``` dictionary inside ```main()``` has at least three keys: ```code```, ```qty```, and ```subtotal```. You know how to get ```code``` and ```qty``` as these come from variables storing entered values from ```input(\"...\")```. To compute ```subtotal``` you need to get the price of the product (using ```code```) somewhere. Your answer in 2a. will help you.\n",
    "\n",
    "This new ```ordered_item``` dictionary will then need to be added to the ```food_tray``` list in a later step. We can add dictionaries to lists, right? Call the function ```add_to_tray(food_tray, ordered_item)``` to do this.\n",
    "\n",
    "The variable ```food_tray``` is a **list** of **dictionaries**. The ```ordered_item``` variable is a **dictionary**."
   ]
  },
  {
   "cell_type": "code",
   "execution_count": 27,
   "metadata": {},
   "outputs": [],
   "source": [
    "def main():\n",
    "    \n",
    "    food_tray = []\n",
    "    command = \"N\"\n",
    "    while(True):\n",
    "        command = input(\"Options: N-New customer, Q-Quit \")\n",
    "        if(command.upper()==\"Q\"):\n",
    "            break\n",
    "        else:\n",
    "            more = \"Y\"\n",
    "            while(more==\"Y\"):\n",
    "                code = input(\"Enter Product Code: \")\n",
    "                qty = input(\"Enter Quantity: \")\n",
    "                # corrected \"Enter Quantity\" to \"Enter Quantity: \"\n",
    "                print(code + \": \"+str(qty))\n",
    "                \n",
    "                ordered_item = dict()                \n",
    "                ordered_item[\"code\"] = code\n",
    "                ordered_item[\"name\"] = get_product_name(code)\n",
    "                ordered_item[\"quantity\"] = qty \n",
    "                ordered_item[\"subtotal\"] = get_product_price(code) * float(qty)\n",
    "                ## add your code here\n",
    "                ## hint: add the key-value pairs for code, qty and subtotal to ordered_item, which was already\n",
    "                ##       initialized for you here.\n",
    "                ## hint: subtotal = qty * price. Now how do you get the price?\n",
    "                ## compute subtotal and add to the ordered_item dictionary\n",
    "                \n",
    "                ## add to food_tray\n",
    "                ## call add_to_tray and pass the parameters food_tray and ordered_item\n",
    "                add_to_tray(food_tray,ordered_item)\n",
    "\n",
    "                more = input(\"Add more items? (Y/N): \").upper()\n",
    "        \n",
    "        grandTotal = sum(food_tray[integerA][\"subtotal\"] for integerA in range(0,len(food_tray),1))\n",
    "        print (\"Grand Total: \", grandTotal)\n",
    "        \n",
    "        generate_receipt(food_tray)\n",
    "        food_tray = [] # clear out food tray\n",
    "        \n",
    "        \n",
    "    print(\"Exiting CoffeePython POS Terminal. Have a great day.\")\n",
    "        "
   ]
  },
  {
   "cell_type": "code",
   "execution_count": 36,
   "metadata": {},
   "outputs": [
    {
     "name": "stdout",
     "output_type": "stream",
     "text": [
      "Options: N-New customer, Q-Quit N\n",
      "Enter Product Code: capuccino\n",
      "Enter Quantity: 2\n",
      "capuccino: 2\n",
      "Add more items? (Y/N): Y\n",
      "Enter Product Code: americano\n",
      "Enter Quantity: 2\n",
      "americano: 2\n",
      "Add more items? (Y/N): N\n",
      "Grand Total:  640.0\n",
      "--------------------------------------------------\n",
      "capuccino       Capuccino       2           340.0\n",
      "americano       Americano       2           300.0\n",
      " \n",
      "Total:                                      640.0\n",
      "--------------------------------------------------\n",
      "Options: N-New customer, Q-Quit Q\n",
      "Exiting CoffeePython POS Terminal. Have a great day.\n"
     ]
    }
   ],
   "source": [
    "main()"
   ]
  },
  {
   "cell_type": "markdown",
   "metadata": {},
   "source": [
    "# Bonus on Another Receipt\n",
    "\n",
    "* a different function that makes the receipt\n",
    "* places the new function inside main_another_receipt( ) in place of the old one"
   ]
  },
  {
   "cell_type": "code",
   "execution_count": 30,
   "metadata": {},
   "outputs": [],
   "source": [
    "def another_receipt(food_tray):\n",
    "    # making the receipt through a different method\n",
    "    print ( \n",
    "            \"\".join([\"-\"]*49)\n",
    "            )\n",
    "    for integerZ in range(0,len(food_tray)):\n",
    "        print (\n",
    "                \"{zero:<15} {one:<15} {two:<10} {three:>6}\".format(**{\"zero\":food_tray[integerZ][\"code\"],\"one\":food_tray[integerZ][\"name\"],\"two\":food_tray[integerZ][\"quantity\"],\"three\":food_tray[integerZ][\"subtotal\"]})\n",
    "                )\n",
    "    print ( \n",
    "            \" \"\n",
    "            )\n",
    "    print (\n",
    "            \"Total:\",end=\"\"\n",
    "            )\n",
    "    print (\n",
    "            \"{sumValue:>43}\".format(sumValue=sum(food_tray[integerY][\"subtotal\"] for integerY in range(0,len(food_tray),1)))\n",
    "            )\n",
    "    print ( \n",
    "            \"\".join([\"-\"]*49)\n",
    "            )"
   ]
  },
  {
   "cell_type": "code",
   "execution_count": 31,
   "metadata": {},
   "outputs": [],
   "source": [
    "def main_another_receipt():\n",
    "    \n",
    "    food_tray = []\n",
    "    command = \"N\"\n",
    "    while(True):\n",
    "        command = input(\"Options: N-New customer, Q-Quit \")\n",
    "        if(command.upper()==\"Q\"):\n",
    "            break\n",
    "        else:\n",
    "            more = \"Y\"\n",
    "            while(more==\"Y\"):\n",
    "                code = input(\"Enter Product Code: \")\n",
    "                qty = input(\"Enter Quantity: \")\n",
    "                # corrected \"Enter Quantity\" to \"Enter Quantity: \"\n",
    "                print(code + \": \"+str(qty))\n",
    "                \n",
    "                ordered_item = dict()                \n",
    "                ordered_item[\"code\"] = code\n",
    "                ordered_item[\"name\"] = get_product_name(code)\n",
    "                ordered_item[\"quantity\"] = qty \n",
    "                ordered_item[\"subtotal\"] = get_product_price(code) * float(qty)\n",
    "                ## add your code here\n",
    "                ## hint: add the key-value pairs for code, qty and subtotal to ordered_item, which was already\n",
    "                ##       initialized for you here.\n",
    "                ## hint: subtotal = qty * price. Now how do you get the price?\n",
    "                ## compute subtotal and add to the ordered_item dictionary\n",
    "                                \n",
    "                ## add to food_tray\n",
    "                ## call add_to_tray and pass the parameters food_tray and ordered_item\n",
    "                add_to_tray(food_tray,ordered_item)\n",
    "\n",
    "                more = input(\"Add more items? (Y/N): \").upper()\n",
    "                \n",
    "        grandTotal = sum(food_tray[integerA][\"subtotal\"] for integerA in range(0,len(food_tray),1))\n",
    "        print (\"Grand Total: \", grandTotal)\n",
    "        \n",
    "        another_receipt(food_tray) # use another_receipt function instead\n",
    "        food_tray = [] # clear out food tray\n",
    "        \n",
    "        \n",
    "    print(\"Exiting CoffeePython POS Terminal. Have a great day.\")\n",
    "        "
   ]
  },
  {
   "cell_type": "code",
   "execution_count": 37,
   "metadata": {},
   "outputs": [
    {
     "name": "stdout",
     "output_type": "stream",
     "text": [
      "Options: N-New customer, Q-Quit N\n",
      "Enter Product Code: capuccino\n",
      "Enter Quantity: 2\n",
      "capuccino: 2\n",
      "Add more items? (Y/N): Y\n",
      "Enter Product Code: americano\n",
      "Enter Quantity: 2\n",
      "americano: 2\n",
      "Add more items? (Y/N): N\n",
      "Grand Total:  640.0\n",
      "-------------------------------------------------\n",
      "capuccino       Capuccino       2           340.0\n",
      "americano       Americano       2           300.0\n",
      " \n",
      "Total:                                      640.0\n",
      "-------------------------------------------------\n",
      "Options: N-New customer, Q-Quit Q\n",
      "Exiting CoffeePython POS Terminal. Have a great day.\n"
     ]
    }
   ],
   "source": [
    "main_another_receipt()"
   ]
  },
  {
   "cell_type": "markdown",
   "metadata": {},
   "source": [
    "# Bonus on Errors\n",
    "\n",
    "* uses the first receipt function\n",
    "* added codes that include the use of **try** and **except**"
   ]
  },
  {
   "cell_type": "code",
   "execution_count": 33,
   "metadata": {},
   "outputs": [],
   "source": [
    "def main_handles_errors():\n",
    "    \n",
    "    food_tray = []\n",
    "    command = \"N\"\n",
    "    while(True):\n",
    "        command = input(\"Options: N-New customer, Q-Quit \")\n",
    "        if(command.upper()==\"Q\"):\n",
    "            break\n",
    "        else:\n",
    "            more = \"Y\"\n",
    "            while(more==\"Y\"):\n",
    "                # additional codes that makes it possible to handle errors\n",
    "                codeValid = False\n",
    "                while(codeValid == False):\n",
    "                    try:\n",
    "                        code = input(\"Enter Product Code: \")\n",
    "                        products[code]\n",
    "                        codeValid = True\n",
    "                    except KeyError: \n",
    "                        print (\"Invalid product code. Try again.\")\n",
    "                # resume the usual code\n",
    "                qty = input(\"Enter Quantity: \")\n",
    "                # corrected \"Enter Quantity\" to \"Enter Quantity: \"\n",
    "                print(code + \": \"+str(qty))\n",
    "                \n",
    "                ordered_item = dict()\n",
    "                ordered_item[\"code\"] = code\n",
    "                ordered_item[\"name\"] = get_product_name(code)\n",
    "                ordered_item[\"quantity\"] = qty \n",
    "                ordered_item[\"subtotal\"] = get_product_price(code) * float(qty)\n",
    "                ## add your code here\n",
    "                ## hint: add the key-value pairs for code, qty and subtotal to ordered_item, which was already\n",
    "                ##       initialized for you here.\n",
    "                ## hint: subtotal = qty * price. Now how do you get the price?\n",
    "                ## compute subtotal and add to the ordered_item dictionary\n",
    "                \n",
    "                ## add to food_tray\n",
    "                ## call add_to_tray and pass the parameters food_tray and ordered_item\n",
    "                add_to_tray(food_tray,ordered_item)\n",
    "\n",
    "                more = input(\"Add more items? (Y/N): \").upper()\n",
    "                \n",
    "        grandTotal = sum(food_tray[integerA][\"subtotal\"] for integerA in range(0,len(food_tray),1))\n",
    "        print (\"Grand Total: \", grandTotal)\n",
    "        \n",
    "        generate_receipt(food_tray)\n",
    "        food_tray = [] # clear out food tray\n",
    "        \n",
    "        \n",
    "    print(\"Exiting CoffeePython POS Terminal. Have a great day.\")\n",
    "        "
   ]
  },
  {
   "cell_type": "code",
   "execution_count": 38,
   "metadata": {},
   "outputs": [
    {
     "name": "stdout",
     "output_type": "stream",
     "text": [
      "Options: N-New customer, Q-Quit N\n",
      "Enter Product Code: milktea\n",
      "Invalid product code. Try again.\n",
      "Enter Product Code: chocolate\n",
      "Invalid product code. Try again.\n",
      "Enter Product Code: capuccino\n",
      "Enter Quantity: 2\n",
      "capuccino: 2\n",
      "Add more items? (Y/N): Y\n",
      "Enter Product Code: americano\n",
      "Enter Quantity: 2\n",
      "americano: 2\n",
      "Add more items? (Y/N): N\n",
      "Grand Total:  640.0\n",
      "--------------------------------------------------\n",
      "capuccino       Capuccino       2           340.0\n",
      "americano       Americano       2           300.0\n",
      " \n",
      "Total:                                      640.0\n",
      "--------------------------------------------------\n",
      "Options: N-New customer, Q-Quit Q\n",
      "Exiting CoffeePython POS Terminal. Have a great day.\n"
     ]
    }
   ],
   "source": [
    "main_handles_errors()"
   ]
  },
  {
   "cell_type": "code",
   "execution_count": null,
   "metadata": {},
   "outputs": [],
   "source": []
  }
 ],
 "metadata": {
  "kernelspec": {
   "display_name": "Python 3",
   "language": "python",
   "name": "python3"
  },
  "language_info": {
   "codemirror_mode": {
    "name": "ipython",
    "version": 3
   },
   "file_extension": ".py",
   "mimetype": "text/x-python",
   "name": "python",
   "nbconvert_exporter": "python",
   "pygments_lexer": "ipython3",
   "version": "3.7.3"
  }
 },
 "nbformat": 4,
 "nbformat_minor": 2
}
